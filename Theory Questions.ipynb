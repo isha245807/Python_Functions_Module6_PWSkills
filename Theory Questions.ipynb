{
 "cells": [
  {
   "cell_type": "markdown",
   "id": "578b4632-5c13-4f18-8e2f-36482e9437f2",
   "metadata": {},
   "source": [
    "# Theory Questions"
   ]
  },
  {
   "cell_type": "markdown",
   "id": "d8179f8a-4729-4c40-a765-b26b0bba07d6",
   "metadata": {},
   "source": [
    "# 1. What is the difference between a function and a method in Python?"
   ]
  },
  {
   "cell_type": "code",
   "execution_count": 1,
   "id": "543bbb73-664a-4382-ae37-6088c3096e27",
   "metadata": {},
   "outputs": [],
   "source": [
    "# In Python, the terms \"function\" and \"method\" refer to different concepts, though they are closely related. \n",
    "#Here's a breakdown of the differences:"
   ]
  },
  {
   "cell_type": "code",
   "execution_count": 5,
   "id": "c0a57464-d3af-4047-b97a-c56896b00311",
   "metadata": {},
   "outputs": [
    {
     "name": "stdout",
     "output_type": "stream",
     "text": [
      "Addition of 2 and 4 is:- 6\n",
      "\n",
      "Addition of 100 and 50 is:- 150\n",
      "\n"
     ]
    }
   ],
   "source": [
    "# Function:-\n",
    "#      Definition: A function is a block of reusable code that performs a specific task.\n",
    "# It can take arguments, perform operations, and return results.\n",
    "#      Definition Location: Functions are defined using the def keyword, and they exist at the module level, \n",
    "# meaning they are not tied to any class or object.\n",
    "#      Usage: Functions can be called by their name, and they are used for general-purpose code.\n",
    "#Example:-\n",
    "\n",
    "def addNum(num1,num2): # Fn defination using the \" def\" keyword \n",
    "    return num1+num2 # fn return the addition of 2 numbers \n",
    "\n",
    "print(f\"Addition of 2 and 4 is:- {addNum(2,4)}\\n\") # Calling \"addNum\" Function \n",
    "print(f\"Addition of 100 and 50 is:- {addNum(100,50)}\\n\")# again calling \"addNum\" Function \n"
   ]
  },
  {
   "cell_type": "code",
   "execution_count": 2,
   "id": "87ca8d94-41ae-463e-889f-4823f5d3afe3",
   "metadata": {},
   "outputs": [
    {
     "name": "stdout",
     "output_type": "stream",
     "text": [
      "Addition of 10 and 15 is: 25\n",
      "\n"
     ]
    }
   ],
   "source": [
    "# Method:-\n",
    "# Definition: A method is a function that is associated with an object. It is defined within a class and is \n",
    "# intended to operate on instances of that class.\n",
    "\n",
    "# Definition Location: Methods are defined inside a class definition and are used to describe behaviors or \n",
    "# operations related to the class's instances.\n",
    "\n",
    "# Usage: Methods are called on objects, and they usually operate on the data contained within the object. \n",
    "# They implicitly take the instance (self) as the first argument.\n",
    "\n",
    "#Example :-\n",
    "class AddNum:\n",
    "    def  __init__(value, n1, n2):\n",
    "        value.n1 = n1\n",
    "        value.n2 = n2\n",
    "\n",
    "    def addFn(value): # This is called methods\n",
    "        return value.n1 + value.n2\n",
    "\n",
    "clsObj = AddNum(10, 15) # Class object \n",
    "\n",
    "# Call the addFn method to perform addition\n",
    "print(f\"Addition of 10 and 15 is: {clsObj.addFn()}\\n\") \n",
    "#here clsObj.addFn(), calling the method of class using class intence veriable"
   ]
  },
  {
   "cell_type": "code",
   "execution_count": 3,
   "id": "11f93635-80a4-4fa8-850c-433f2d1a61d0",
   "metadata": {},
   "outputs": [],
   "source": [
    "# Key Differences\n",
    "# Association:-\n",
    "# Function: Not associated with any object or class.\n",
    "# Method: Associated with an instance of a class or the class itself (in the case of class methods).\n",
    "\n",
    "# First Argument:-\n",
    "# Function: No implicit first argument.\n",
    "# Method: The first argument is typically self (for instance methods) or cls (for class methods).\n",
    "\n",
    "# Usage Context:-\n",
    "# Function: Called independently.\n",
    "# Method: Called on an object or class."
   ]
  },
  {
   "cell_type": "markdown",
   "id": "3acf27ee-2151-48c9-92b3-f5b220c93a2b",
   "metadata": {},
   "source": [
    "# 2. Explain the concept of function arguments and parameters in Python"
   ]
  },
  {
   "cell_type": "code",
   "execution_count": 6,
   "id": "0dd94d0e-149f-453b-a41f-427fcdf65b1d",
   "metadata": {},
   "outputs": [
    {
     "name": "stdout",
     "output_type": "stream",
     "text": [
      "Addition of list data is:- 27\n",
      "\n"
     ]
    }
   ],
   "source": [
    "# In Python, function arguments and parameters are fundamental concepts that define how functions receive and \n",
    "# process input data. Here’s a detailed explanation:\n",
    "\n",
    "#      Parameters:-\n",
    "# Definition: Parameters are the variables listed in a function’s definition. They act as placeholders for \n",
    "# the values that will be passed to the function when it is called.\n",
    "\n",
    "# Location: Parameters are defined in the function signature (i.e., the function's header).\n",
    "                                                            \n",
    "#      Arguments:-\n",
    "# Definition: Arguments are the actual values or data you pass to the function when you call it. They correspond to \n",
    "#  the parameters defined in the function.\n",
    "\n",
    "# Location: Arguments are supplied in the function call.\n",
    "\n",
    "#Example \n",
    "# Addition of all elements of list\n",
    "\n",
    "def contList(ls): # Here \"ls\" is considered as argument of function \n",
    "    result=0\n",
    "    for num in ls:\n",
    "        result+=num\n",
    "    return result \n",
    "\n",
    "listData=[2,3,4,5,6,7]\n",
    "listAdditionResult= contList(listData) # Here listdata inside function call will be considered as parameters.\n",
    "print(f\"Addition of list data is:- {listAdditionResult}\\n\")"
   ]
  },
  {
   "cell_type": "markdown",
   "id": "bc62ae1c-8c96-4c56-86a9-7138c5521c99",
   "metadata": {},
   "source": [
    "#  3.  What are the different ways to define and call a function in Python"
   ]
  },
  {
   "cell_type": "code",
   "execution_count": 7,
   "id": "ea038aec-cb96-4e38-bf83-f1242f6bfeba",
   "metadata": {},
   "outputs": [],
   "source": [
    "#In Python, functions can be defined and called in several ways to accommodate different programming needs and styles. \n",
    "\n",
    "\n",
    "# Below is the ways of definding and calling the function \n",
    "# 1. Basic Function Definition and Call\n",
    "# 2. Functions with Default Parameters\n",
    "# 3.Functions with Variable-Length Arguments\n",
    "# 4. Lambda Functions\n",
    "# 5. Function as an Argument\n",
    "# 6. Function Returning Other Functions\n",
    "# 7. Recursive Functions"
   ]
  },
  {
   "cell_type": "code",
   "execution_count": 10,
   "id": "0b619113-bc11-482d-a459-a74c5fffee47",
   "metadata": {},
   "outputs": [
    {
     "name": "stdout",
     "output_type": "stream",
     "text": [
      "Result is 'Its Function Assigment'\n"
     ]
    }
   ],
   "source": [
    "# 1. Basic Function Definition and Call\n",
    "# Definition: Use the def keyword to define a function.\n",
    "# Call: Call the function by its name followed by parentheses.\n",
    "\n",
    "#Example:\n",
    "\n",
    "def printString(s1,s2):  # Function defination using the \"def\" keyword\n",
    "    return s1+s2 # Return the contatinate of string\n",
    "\n",
    "stringResult=printString(\"Its \", \"Function Assigment\") # Function call and assigning it to a veriable \n",
    "print(f\"Result is '{stringResult}'\")"
   ]
  },
  {
   "cell_type": "code",
   "execution_count": 11,
   "id": "9d18f163-ef66-4bb6-9aa3-a1aa8c5c0466",
   "metadata": {},
   "outputs": [
    {
     "name": "stdout",
     "output_type": "stream",
     "text": [
      "Result is 'Its no Data'\n"
     ]
    }
   ],
   "source": [
    "# 2. Functions with Default Parameters\n",
    "# Definition: Parameters can have default values. If no value is provided for these parameters, \n",
    "#the default value is used.\n",
    "# Call: You can omit arguments with default values when calling the function.\n",
    "\n",
    "# #Example\n",
    "def printString(s1,s2=\"no Data\"):  #Here S2 assigned as default value no value passed s2 will take \"no Data\" as string\n",
    "    return s1+s2 # Return the contatinate of string\n",
    "\n",
    "stringResult=printString(\"Its \") # Function call and assigning it to a veriable \n",
    "print(f\"Result is '{stringResult}'\")"
   ]
  },
  {
   "cell_type": "code",
   "execution_count": 12,
   "id": "f3a6a44c-68c4-4394-9920-e21be8ff118a",
   "metadata": {},
   "outputs": [
    {
     "name": "stdout",
     "output_type": "stream",
     "text": [
      "Result is '('Its', 'all', 'about', 'Python')'\n"
     ]
    }
   ],
   "source": [
    "# 3. Functions with Variable-Length Arguments\n",
    "# *args: Allows a function to accept any number of positional arguments.\n",
    "# **kwargs: Allows a function to accept any number of keyword arguments.\n",
    "# Examples\n",
    "\n",
    "def printString(*args):  # Args takes N numbers of arguments that will be unknown\n",
    "    return args # \n",
    "\n",
    "stringResult=printString(\"Its\", \"all\", \"about\", \"Python\") # Passing N number of arguments \n",
    "print(f\"Result is '{stringResult}'\")"
   ]
  },
  {
   "cell_type": "code",
   "execution_count": 17,
   "id": "e4b0b8bc-b4ff-4968-99e8-ce34502896cd",
   "metadata": {},
   "outputs": [
    {
     "name": "stdout",
     "output_type": "stream",
     "text": [
      "Addition of List element is ['ITS', 'ALL', 'ABOUT', 'PYTHON']\n"
     ]
    }
   ],
   "source": [
    "# 4. Lambda Functions\n",
    "# Definition: Use the lambda keyword to create small anonymous functions. \n",
    "# These are typically used for short operations and are often passed as arguments to higher-order functions.\n",
    "\n",
    "# Call: Lambda functions are called in the same way as regular functions.\n",
    "# Example : Conversting to upper Case \n",
    "numList= [\"Its\", \"all\", \"about\", \"Python\"]\n",
    "additionResult=list(map(lambda str: str.upper(),numList)) # Here \"lambda str: str.upper()\" is lambda Fn\n",
    "print(f\"Addition of List element is {additionResult}\")"
   ]
  },
  {
   "cell_type": "code",
   "execution_count": 18,
   "id": "cefc090c-fa29-47e3-ba91-105448cdc291",
   "metadata": {},
   "outputs": [
    {
     "name": "stdout",
     "output_type": "stream",
     "text": [
      "Addition of numbers is 200\n"
     ]
    }
   ],
   "source": [
    "# # 5. Function as an Argument\n",
    "# Definition: You can pass functions as arguments to other functions, which is useful for \n",
    "# higher-order functions and callbacks.\n",
    "# Call: The function passed as an argument is called within the receiving function.\n",
    "# Example : Display of addition of 2 numbers\n",
    "def addDisplay(addFunction,n1,n2): # Taken add Fn as argument along with numbers \n",
    "    print(f\"Addition of numbers is {addFunction(n1,n2)}\")\n",
    "def addFn(n1,n2): # Normal Fn to add 2 numbers \n",
    "    return n1+n2\n",
    "\n",
    "addDisplay(addFn,100,100) # Calling a function within another function "
   ]
  },
  {
   "cell_type": "code",
   "execution_count": 30,
   "id": "4e3e4e18-9b24-4ff0-b021-fec0380dfedb",
   "metadata": {},
   "outputs": [
    {
     "name": "stdout",
     "output_type": "stream",
     "text": [
      "Concatenation of 2 strings using function returning function is:\n",
      "ItsIsha\n"
     ]
    }
   ],
   "source": [
    "# 6. Function Returning Other Functions\n",
    "# Definition: A function can return another function, which allows for function factories and decorators.\n",
    "# Call: Call the returned function just like any other function.\n",
    "# Example : Adding string\n",
    "\n",
    "def outString(s1):\n",
    "    def innerString(s2=\"Isha\"):\n",
    "        return s1 + s2  # Inner function concatenates s2 with s1\n",
    "    return innerString  # Outer function returns the inner function\n",
    "\n",
    "# Call outString with 'Its' and then call the returned function with default 's2'\n",
    "result_function = outString(\"Its\")\n",
    "\n",
    "# Print the result of the returned function\n",
    "print(f\"Concatenation of 2 strings using function returning function is:\\n{result_function()}\")\n"
   ]
  },
  {
   "cell_type": "code",
   "execution_count": 39,
   "id": "2934330b-8573-4729-bc54-cf6ac18d3b5a",
   "metadata": {},
   "outputs": [
    {
     "name": "stdout",
     "output_type": "stream",
     "text": [
      "Factorial of 6 is 720\n"
     ]
    }
   ],
   "source": [
    "# 7. Recursive Functions\n",
    "# Definition: A function that calls itself. This is useful for solving problems that can be broken down into \n",
    "# smaller, similar problems.\n",
    "# Call: The function calls itself within its body.\n",
    "# Example : Factorial of N\n",
    "\n",
    "def fact(num):\n",
    "    if num == 0:\n",
    "        return 1\n",
    "    else:\n",
    "        return num * fact(num - 1) # Here fact() calling itself inside its own \n",
    "\n",
    "print(f\"Factorial of 6 is {fact(6)}\")"
   ]
  },
  {
   "cell_type": "markdown",
   "id": "fd2936c4-b835-4458-8390-33590e0d31be",
   "metadata": {},
   "source": [
    "#   4. What is the purpose of the 'return' statement in a Python function?"
   ]
  },
  {
   "cell_type": "code",
   "execution_count": 4,
   "id": "fdf49b36-adff-4538-b77c-52879dc5bd08",
   "metadata": {},
   "outputs": [
    {
     "name": "stdout",
     "output_type": "stream",
     "text": [
      "2.0,4.0,6.0\n"
     ]
    }
   ],
   "source": [
    "# The return statement in a Python function serves several purposes:\n",
    "\n",
    "# 1. Output a Value: It allows a function to send a value back to the caller. When a function completes, it can use the \n",
    "# return statement to pass a result back to the place where the function was invoked.\n",
    "\n",
    "# 2. Terminate Function Execution: When a return statement is executed, it immediately ends the function’s execution. \n",
    "# Any code after the return statement within the function is not executed.\n",
    "\n",
    "# 3.Return None by Default: If no return statement is specified, or if the return statement has no expression, \n",
    "# the function returns None by default.\n",
    "\n",
    "#Exammple Print list data in float\n",
    "\n",
    "def printValue(lst):\n",
    "    return ','.join(map(str, map(float, lst)))   # Return value to the function call\n",
    "    print(\"This Data wil not print\") # This statment will not be executed after return statment\n",
    "\n",
    "numList=[2,4,6]\n",
    "print(printValue(numList)) # Function call "
   ]
  },
  {
   "cell_type": "markdown",
   "id": "f3c6c518-9cfb-47de-9d5d-baca2a3936eb",
   "metadata": {},
   "source": [
    "# 5. What are iterators in Python and how do they differ from iterables"
   ]
  },
  {
   "cell_type": "code",
   "execution_count": 9,
   "id": "be0f3a03-ce0b-4d11-9eb1-3b1f0f3c3638",
   "metadata": {},
   "outputs": [
    {
     "name": "stdout",
     "output_type": "stream",
     "text": [
      "Print from Iterator = 1\n",
      "\n",
      "Print from iterable that is using for loop\n",
      "1=100\n",
      "3=300\n",
      "4=400\n",
      "9=900\n",
      "\n",
      "Print from Iterator = 3\n",
      "\n"
     ]
    }
   ],
   "source": [
    "# Iterables\n",
    "# Definition: An iterable is any object in Python that can return its elements one at a time, \n",
    "# allowing it to be used in a loop. It implements the __iter__() method, which returns an iterator.\n",
    "\n",
    "# Examples: Lists, tuples, dictionaries, sets, and strings are common examples of iterables. \n",
    "# These objects can be looped over using a for loop.\n",
    "\n",
    "# Key Points:\n",
    "# An iterable is an object that can be iterated over.\n",
    "# It provides an iterator when its __iter__() method is called.\n",
    "# You can create an iterable using containers like lists, sets, and dictionaries, or by defining \n",
    "# a class with an __iter__() method.\n",
    "\n",
    "# Iterators\n",
    "# Definition: An iterator is an object that represents a stream of data; it produces items one at a time and keeps \n",
    "# track of its current position. It implements two methods: __iter__() and __next__() (or next() in Python 2).\n",
    "\n",
    "# Examples: An iterator is typically created from an iterable. For example, calling iter() on a list returns an \n",
    "# iterator for that list.\n",
    "\n",
    "# Key Points:\n",
    "# An iterator is an object with __next__() method (or next() in Python 2) to retrieve the next item.\n",
    "# Once an iterator is exhausted (i.e., all items have been returned), calling __next__() raises a StopIteration exception.\n",
    "# Iterators maintain state and can be used to iterate through data without needing to store the entire sequence in memory.\n",
    "\n",
    "#Example : Print the Dictionary elements \n",
    "\n",
    "\n",
    "dicData={1:100,3:300,4:400,9:900}\n",
    "iteratbleDict = iter(dicData) \n",
    "print(f\"Print from Iterator = {next(iteratbleDict)}\\n\")  # Next() give Iterator data that is key of Dictionary \n",
    "print(\"Print from iterable that is using for loop\")\n",
    "for (key,value) in dicData.items(): # Here key and value i.e dictionary is iterable \n",
    "      print(f\"{key}={value}\") \n",
    "print(f\"\\nPrint from Iterator = {next(iteratbleDict)}\\n\")  # Next() give Iterator data "
   ]
  },
  {
   "cell_type": "markdown",
   "id": "b3edc980-092d-492a-9058-e1712056fcbb",
   "metadata": {},
   "source": [
    "#   6. Explain the concept of generators in Python and how they are defined"
   ]
  },
  {
   "cell_type": "code",
   "execution_count": 17,
   "id": "20e6ba33-8410-4c84-80da-7e18c47683bd",
   "metadata": {},
   "outputs": [
    {
     "name": "stdout",
     "output_type": "stream",
     "text": [
      "Square of given list elements are:\n",
      " [1, 4, 9, 16, 25, 36]\n",
      "\n"
     ]
    }
   ],
   "source": [
    "# #Defination:  Generators in Python are a special type of iterable that allows you to iterate over a sequence of \n",
    "# values without storing the entire sequence in memory. They are a more memory-efficient way to work with large \n",
    "# datasets or streams of data.\n",
    "\n",
    "# Generators are Defined in 2 ways:-\n",
    "\n",
    "# 1. Using the yield Keyword:\n",
    "\n",
    "# A generator function is defined like a regular function but uses the yield keyword instead of return. \n",
    "# Each time yield is encountered, the function’s state is saved, and the yielded value is returned to the caller.\n",
    "# When the generator’s __next__() method is called (implicitly by a loop or explicitly), execution resumes immediately \n",
    "# after the last yield.\n",
    "\n",
    "# Example:- Squre of element of List \n",
    "\n",
    "def square(lst):\n",
    "    for num in lst:\n",
    "        yield num*num\n",
    "\n",
    "lstData=[1,2,3,4,5,6]\n",
    "print(f\"Square of given list elements are:\\n {list(square(lstData))}\\n\")"
   ]
  },
  {
   "cell_type": "code",
   "execution_count": 27,
   "id": "3916f754-9efc-4977-a829-439d91709388",
   "metadata": {},
   "outputs": [
    {
     "name": "stdout",
     "output_type": "stream",
     "text": [
      "Odd numbers between 0-20 is \n",
      " [1, 3, 5, 7, 9, 11, 13, 15, 17, 19]\n",
      "\n"
     ]
    }
   ],
   "source": [
    "# 2. Using Generator Expressions:\n",
    "\n",
    "# Generator expressions provide a concise way to create generators. They are similar to list comprehensions but \n",
    "# use parentheses () instead of square brackets [].\n",
    "\n",
    "# Example:- Odd numbers in list \n",
    "\n",
    "oddData=list(num for num in range(0,21) if num%2!=0)  # Generator Comprehensive \n",
    "\n",
    "print(f\"Odd numbers between 0-20 is \\n {oddData}\\n\")"
   ]
  },
  {
   "cell_type": "markdown",
   "id": "8e3e6bb9-bb58-431c-8522-94fc676de193",
   "metadata": {},
   "source": [
    "#  7. What are the advantages of using generators over regular functions?"
   ]
  },
  {
   "cell_type": "code",
   "execution_count": 37,
   "id": "29777f43-8ad4-415d-b2ae-886ce49e53fc",
   "metadata": {},
   "outputs": [
    {
     "name": "stdout",
     "output_type": "stream",
     "text": [
      "fibonacci of 11 is\n",
      " [0, 1, 1, 2, 3, 5, 8, 13, 21, 34, 55]\n"
     ]
    }
   ],
   "source": [
    "# Generators offer several advantages over regular functions, particularly in scenarios involving \n",
    "# large datasets or complex sequences. Here are the key advantages of using generators:\n",
    "\n",
    "# 1. Memory Efficiency\n",
    "# Reduced Memory Usage: Generators produce values one at a time and only keep track of the state needed to produce \n",
    "# the next value. This means they do not store the entire sequence in memory, making them highly memory-efficient, \n",
    "# especially for large datasets or infinite sequences.\n",
    "\n",
    "# 2. Lazy Evaluation\n",
    "# On-Demand Computation: Generators compute values only when needed. This \"lazy\" evaluation avoids unnecessary \n",
    "# computations and can speed up performance when dealing with large or potentially infinite sequences.\n",
    "\n",
    "# 3. Simpler Code for Complex Iterations\n",
    "# Cleaner and More Readable: Generators simplify the code required to handle complex sequences and state management. \n",
    "# The yield statement encapsulates the iteration logic and state management within a single function.\n",
    "\n",
    "# 4. Improved Performance\n",
    "# Avoiding Unnecessary Computation: Since generators yield values one at a time, they can start processing and producing \n",
    "# results immediately without waiting to build the entire sequence. This can lead to performance improvements, especially \n",
    "# in streaming data scenarios.\n",
    "\n",
    "# 5.  Infinite Sequences\n",
    "# Handling Infinite Iterations: Generators can represent infinite sequences without consuming infinite memory. \n",
    "# They generate values on demand, making it practical to work with sequences that theoretically never end.\n",
    "\n",
    "# 6. State Management\n",
    "# Automatic State Preservation: Generators automatically preserve their execution state between yield calls. \n",
    "# This eliminates the need for explicit state management and complex loop constructs, leading to cleaner and more \n",
    "# maintainable code.\n",
    "\n",
    "# 7. Ease of Implementation\n",
    "# Reduced Boilerplate Code: Generators can replace more complex code that would otherwise involve maintaining state \n",
    "# manually and handling iteration with explicit loops. This simplifies the implementation of custom iteration logic.\n",
    "\n",
    "# Example : Fibnocis of given number using generators\n",
    "\n",
    "def fib(num):\n",
    "    a=0\n",
    "    b=1\n",
    "    for data in range(num):\n",
    "        yield a\n",
    "        a,b=b,a+b\n",
    "print(f\"fibonacci of 11 is\\n {list(fib(11))}\")"
   ]
  },
  {
   "cell_type": "markdown",
   "id": "84f55143-4df6-4dba-9d7e-d14e5f2c0121",
   "metadata": {},
   "source": [
    "#  8. What is a lambda function in Python and when is it typically used?"
   ]
  },
  {
   "cell_type": "code",
   "execution_count": 16,
   "id": "9b4a3b95-75bf-4064-8540-15cebc73a2bf",
   "metadata": {},
   "outputs": [
    {
     "name": "stdout",
     "output_type": "stream",
     "text": [
      "[2, 4, 6]\n"
     ]
    }
   ],
   "source": [
    "# A lambda function in Python is a small, anonymous function defined using the lambda keyword. \n",
    "# It is a way to create simple, one-off functions without having to formally define them using the def \n",
    "# keyword. Lambda functions are also known as lambda expressions or lambda abstractions.\n",
    "\n",
    "\n",
    "# Typical Uses of Lambda Functions\n",
    "# 1.  Short, One-Off Functions:\n",
    "# 2. Functional Programming Tools:\n",
    "# 3. Inline Functions:\n",
    "# 4. GUI Programming:\n",
    "\n",
    "#Example of Lambda function (Even number list )\n",
    "\n",
    "data=[1,2,3,4,5,6,7]\n",
    "result = list(filter(lambda num: num % 2 == 0, data))  # Here lambda s checking and returning even numbers \n",
    "print(result)\n"
   ]
  },
  {
   "cell_type": "markdown",
   "id": "42228606-ab01-441e-aed4-e2cbe41c91f0",
   "metadata": {},
   "source": [
    "#  9.  Explain the purpose and usage of the \" map() \" function in Python"
   ]
  },
  {
   "cell_type": "code",
   "execution_count": 19,
   "id": "d4d3ea2a-d62d-4808-838a-833015f784da",
   "metadata": {},
   "outputs": [
    {
     "name": "stdout",
     "output_type": "stream",
     "text": [
      "['LIST', 'TUPLE', 'SET']\n"
     ]
    }
   ],
   "source": [
    "# The map() function in Python is a built-in function that allows you to apply a given function to each item in an \n",
    "# iterable (like a list or tuple) and return a map object (which is an iterator) containing the results. \n",
    "# The purpose of map() is to streamline the process of applying a function to each element of an iterable in a concise \n",
    "# and efficient manner.\n",
    "\n",
    "# Syntax:-   map(function, iterable, ...)\n",
    "# function: A function that takes one or more arguments and returns a value. This function is applied to each element\n",
    "# of the iterable(s).\n",
    "# iterable: One or more iterables (like lists, tuples, etc.) that the function will be applied to.\n",
    "\n",
    "# Purpose: The map() function simplifies the process of applying a function to each element in an iterable, \n",
    "# making code more concise and readable.\n",
    "# Usage: Use map() when you need to transform or process elements of an iterable based on a function. \n",
    "# It is particularly useful in functional programming paradigms and for quick, efficient transformations of data.\n",
    "\n",
    "#Example  : Conversting to Upper case of  all elements of list which holds string data \n",
    "\n",
    "data=[\"list\",\"tuple\",\"set\"]\n",
    "result= list(map(lambda str:str.upper() , data))\n",
    "print(result)"
   ]
  },
  {
   "cell_type": "markdown",
   "id": "5dad1de8-a120-4430-8d4e-59241e570f68",
   "metadata": {},
   "source": [
    "#  10. What is the difference between \"map()\" , \"reduce()\" and \" filter()\" functions in Python ?"
   ]
  },
  {
   "cell_type": "code",
   "execution_count": 32,
   "id": "626f418f-1aee-4168-b1b3-16f1571cf894",
   "metadata": {},
   "outputs": [
    {
     "name": "stdout",
     "output_type": "stream",
     "text": [
      "List data in upper case\n",
      "['CAR', 'BIKE', 'CYCLE', 'AIROPLAIN', 'BUS']\n",
      "\n",
      "List data where element has letter ' i '\n",
      "['bike', 'airoplain']\n",
      "\n",
      "Contatinate of list elements  \n",
      "car bike cycle airoplain bus\n",
      "\n"
     ]
    }
   ],
   "source": [
    "# The map(), reduce(), and filter() functions in Python are all built-in functional programming tools that operate \n",
    "# on iterables, but they serve different purposes and have distinct behaviors. Here’s a detailed comparison of each:\n",
    "\n",
    "# map()\n",
    "# Purpose: The map() function applies a given function to each item in an iterable (or iterables) and returns \n",
    "# an iterator that yields the results.\n",
    "\n",
    "# reduce()\n",
    "# Purpose: The reduce() function applies a given function cumulatively to the items of an iterable, from left to right, \n",
    "# so as to reduce the iterable to a single cumulative value.\n",
    "\n",
    "# filter()\n",
    "# Purpose: The filter() function applies a given function to each item in an iterable and returns an iterator \n",
    "# containing only those elements for which the function returns True.\n",
    "\n",
    "# Differences:-\n",
    "# Functionality:\n",
    "# map(): Applies a function to each element and returns an iterator with the transformed values.\n",
    "# reduce(): Applies a function cumulatively to the elements of an iterable to produce a single result.\n",
    "# filter(): Applies a function to each element and returns an iterator with elements that satisfy the condition.\n",
    "\n",
    "# Return Type:\n",
    "# map(): Returns an iterator with transformed elements.\n",
    "# reduce(): Returns a single cumulative value.\n",
    "# filter(): Returns an iterator with elements that meet the condition.\n",
    "\n",
    "# Usage Scenarios:\n",
    "# map(): When you need to transform each item in an iterable.\n",
    "# reduce(): When you need to combine all items in an iterable into a single cumulative result.\n",
    "# filter(): When you need to extract elements that meet a certain condition from an iterable.\n",
    "\n",
    "# Example program program \n",
    "from functools import reduce\n",
    "\n",
    "strData=[\"car\",\"bike\",\"cycle\",\"airoplain\",\"bus\",]\n",
    "filterResult=list(filter(lambda str: 'I'.lower() in str,strData)) # Filter() to get where string has letter \" i \"\n",
    "reduceResult=reduce(lambda str1,str2: str1+\" \"+str2 , strData) # reduce() give one string of all the elements \n",
    "mapResult = list(map(lambda str: str.upper(),strData))  # Map Function to converst to upper\n",
    "\n",
    "print(f\"List data in upper case\\n{mapResult}\\n\")\n",
    "print(f\"List data where element has letter ' i '\\n{filterResult}\\n\")\n",
    "print(f\"Contatinate of list elements  \\n{reduceResult}\\n\")"
   ]
  },
  {
   "cell_type": "markdown",
   "id": "a94c34d4-8659-4446-b683-fedcbdcc8f9d",
   "metadata": {},
   "source": [
    "# 11.  Using pen and paper write the internal mechanism for sum operation using reduce function on this given list        [47,11,42,13]"
   ]
  },
  {
   "cell_type": "code",
   "execution_count": 8,
   "id": "59337134-82e1-44bc-bc73-17d0bf2b4f55",
   "metadata": {},
   "outputs": [
    {
     "name": "stdout",
     "output_type": "stream",
     "text": [
      "Sum of given list dat is '113' \n"
     ]
    }
   ],
   "source": [
    "#Program :\n",
    "from functools import reduce\n",
    "\n",
    "listData=[47,11,42,13]\n",
    "sumResult= reduce(lambda x,y: x+y ,listData)\n",
    "print(f\"Sum of given list dat is '{sumResult}' \")\n",
    "\n",
    "\n",
    "\n",
    "#  Drive link is attached to track the internal mechanism for sum of operation using reduce function."
   ]
  },
  {
   "cell_type": "code",
   "execution_count": null,
   "id": "02fc06ed-1293-45c8-9c46-bcb7cf217d59",
   "metadata": {},
   "outputs": [],
   "source": []
  },
  {
   "cell_type": "code",
   "execution_count": null,
   "id": "d20586d4-709b-4e11-8c59-ee4ff7df779f",
   "metadata": {},
   "outputs": [],
   "source": []
  },
  {
   "cell_type": "code",
   "execution_count": null,
   "id": "a77e6c9e-6f56-4292-bbec-93d833196f69",
   "metadata": {},
   "outputs": [],
   "source": []
  }
 ],
 "metadata": {
  "kernelspec": {
   "display_name": "Python 3 (ipykernel)",
   "language": "python",
   "name": "python3"
  },
  "language_info": {
   "codemirror_mode": {
    "name": "ipython",
    "version": 3
   },
   "file_extension": ".py",
   "mimetype": "text/x-python",
   "name": "python",
   "nbconvert_exporter": "python",
   "pygments_lexer": "ipython3",
   "version": "3.10.8"
  }
 },
 "nbformat": 4,
 "nbformat_minor": 5
}
