{
 "cells": [
  {
   "cell_type": "markdown",
   "id": "ee70ac9d-cb1a-426f-860a-566453857e54",
   "metadata": {},
   "source": [
    "# 1.  Write a Python function that takes a list of numbers as input and return the sum of all even numbers in the list"
   ]
  },
  {
   "cell_type": "code",
   "execution_count": 4,
   "id": "594f7187-4f64-40e4-81e4-4464580c3411",
   "metadata": {},
   "outputs": [
    {
     "name": "stdout",
     "output_type": "stream",
     "text": [
      "Sum of given numbers is: 28\n"
     ]
    }
   ],
   "source": [
    "def sumOfList(*numbs): # Here \" * \" represent the no of unknown argument \n",
    "    return sum(numbs) # Sum() add the each elements and return sum of it to calling function \n",
    "\n",
    "sumResult=sumOfList(1,2,3,4,5,6,7)  # Passing list of numbers \n",
    "print(f\"Sum of given numbers is: {sumResult}\")"
   ]
  },
  {
   "cell_type": "markdown",
   "id": "ca444c02-b30a-42e4-a97d-f2cf5a0eaba4",
   "metadata": {},
   "source": [
    "#  2.  Create a Python function that accepts a string and return the reverse of that string"
   ]
  },
  {
   "cell_type": "code",
   "execution_count": 6,
   "id": "1bc3a364-5dc2-4ff2-91c6-7135bce35df8",
   "metadata": {},
   "outputs": [
    {
     "name": "stdout",
     "output_type": "stream",
     "text": [
      "Given string in reverse is ' nohtyP eht tuoba lla stI ' \n"
     ]
    }
   ],
   "source": [
    "def strReverse(str):\n",
    "    return str[::-1]  # Here [::-1] give strings in reverse \n",
    "strReverseResult=strReverse(\"Its all about the Python\") # Function call \n",
    "print(f\"Given string in reverse is ' {strReverseResult} ' \")"
   ]
  },
  {
   "cell_type": "markdown",
   "id": "c6163783-75ba-44f3-9d10-8fa1c156c0cb",
   "metadata": {},
   "source": [
    "# 3. Implement a Python function that takes a list of integers and returns a new list containing the squares of each number."
   ]
  },
  {
   "cell_type": "code",
   "execution_count": 13,
   "id": "65870c37-9006-4fbd-bcca-5e49f20b75d4",
   "metadata": {},
   "outputs": [
    {
     "name": "stdout",
     "output_type": "stream",
     "text": [
      "Squares of given list numbers are:-\n",
      "[4, 16, 36, 49, 64, 81]\n",
      "\n"
     ]
    }
   ],
   "source": [
    "def squareofNum(num):\n",
    "        return num**2\n",
    "\n",
    "listData=[2,4,6,7,8,9]\n",
    "sqreResult= list(map(squareofNum,listData))\n",
    "print(f\"Squares of given list numbers are:-\\n{sqreResult}\\n\")\n",
    "\n"
   ]
  },
  {
   "cell_type": "markdown",
   "id": "6a45979e-f579-40df-a9c1-75825eeca135",
   "metadata": {},
   "source": [
    "#  4.  Write a Python function that checks if a given number is prime or not from 1 to 200"
   ]
  },
  {
   "cell_type": "code",
   "execution_count": 62,
   "id": "e60707c7-40d5-4da0-8ee6-4653672f1377",
   "metadata": {},
   "outputs": [
    {
     "name": "stdout",
     "output_type": "stream",
     "text": [
      "Given 127 is primse number\n"
     ]
    }
   ],
   "source": [
    "def primceCheck(num):\n",
    "    if num<=1:\n",
    "        return False\n",
    "    if num <=3:\n",
    "        return True\n",
    "    if num%2==0 or num%3==0:\n",
    "        return False\n",
    "    i = 4\n",
    "    while i * i <= num:\n",
    "        if num % i == 0 or num % (i + 2) == 0:\n",
    "            return False\n",
    "        i += 6\n",
    "    \n",
    "    return True\n",
    "\n",
    "number=127\n",
    "if(primceCheck(number)):\n",
    "    print(f\"Given {number} is primse number\")\n",
    "else:\n",
    "    print(f\"Given {number} is not  primse number\")"
   ]
  },
  {
   "cell_type": "markdown",
   "id": "92b4903e-2aaf-4757-89f3-3f460c2aa506",
   "metadata": {},
   "source": [
    "#  5.  Create an integrator class in Python that generates the Fibonacci sequence up to a specified number of terms"
   ]
  },
  {
   "cell_type": "code",
   "execution_count": 24,
   "id": "28eebb4e-c0d5-42ac-be6a-fc45540b97e4",
   "metadata": {},
   "outputs": [
    {
     "name": "stdout",
     "output_type": "stream",
     "text": [
      "The Fibnacci of given number is\n",
      "[0, 1, 1, 2, 3, 5, 8, 13, 21, 34, 55, 89, 144, 233, 377, 610, 987, 1597, 2584, 4181]\n",
      "\n"
     ]
    }
   ],
   "source": [
    "class Fibonacci:\n",
    "    def __init__(self,num):\n",
    "        self.num=num\n",
    "        \n",
    "    def fibnocci(self):\n",
    "        a,b=0,1\n",
    "        for _ in range(0,self.num):       \n",
    "            yield a  # Its iterate the and maintain the stage \n",
    "            a,b=b,a+b\n",
    "\n",
    "fibObject = Fibonacci(20)\n",
    "print(f\"The Fibnacci of given number is\\n{list(fibObject.fibnocci())}\\n\")\n",
    "        "
   ]
  },
  {
   "cell_type": "markdown",
   "id": "aa5ee386-05b4-4d1d-ad8e-b0f19ab2efe7",
   "metadata": {},
   "source": [
    "#  6.  Write a generator function in Python that yields the power of 2 up to a given exponent."
   ]
  },
  {
   "cell_type": "code",
   "execution_count": 28,
   "id": "e4ab5945-6240-4cfe-939c-23a713c22a2d",
   "metadata": {},
   "outputs": [
    {
     "name": "stdout",
     "output_type": "stream",
     "text": [
      "List data of power of 2 is\n",
      "[1, 4, 9, 16, 25, 36, 49, 64, 81, 100]\n"
     ]
    }
   ],
   "source": [
    "def powerNum(num):\n",
    "    for count in range(1,num+1):\n",
    "        yield count**2 # maintain the sttage \n",
    "\n",
    "        \n",
    "print(f\"List data of power of 2 is\\n{list(powerNum(10))}\") # Fucntion call and create generator "
   ]
  },
  {
   "cell_type": "markdown",
   "id": "7cddd92d-cb28-4ce3-8df8-7ed45f5f4270",
   "metadata": {},
   "source": [
    "#  7.  Implement a generator function that reads a file line by line and yields each line as a string "
   ]
  },
  {
   "cell_type": "code",
   "execution_count": 4,
   "id": "408a8841-2626-42a8-8878-b8635e8ca5c4",
   "metadata": {},
   "outputs": [
    {
     "name": "stdout",
     "output_type": "stream",
     "text": [
      "['Python', 'Python is programming Language', 'Its easy to learn', 'Its widely used in active community']\n"
     ]
    }
   ],
   "source": [
    "def stringLine(p):\n",
    "    for sentence in p.split(\".\"or\"\\n\"): # Split by '.' or '\\n'\n",
    "        yield sentence.strip() #yield each sentence\n",
    "\n",
    "Paragraphs=\" Python. Python is programming Language . Its easy to learn . Its widely used in active community\"\n",
    "print(list(stringLine(Paragraphs)))"
   ]
  },
  {
   "cell_type": "markdown",
   "id": "613851dd-3d55-4605-8fa9-6920cc1ba438",
   "metadata": {},
   "source": [
    "#  8. Use a lambda function in Python to sort a list of tuples based on the second element of each tuple."
   ]
  },
  {
   "cell_type": "code",
   "execution_count": 15,
   "id": "3e42b02c-61bf-44cd-a73f-fe27dc01e80c",
   "metadata": {},
   "outputs": [
    {
     "name": "stdout",
     "output_type": "stream",
     "text": [
      "Here is the sorted list of tuples based on 2nd elements\n",
      "[(1, 3), (2, 4), (0, 5), (-6, -2)]\n",
      "\n"
     ]
    }
   ],
   "source": [
    "def sortlist(lst):\n",
    "    result=[]\n",
    "    for element in lst:\n",
    "        if type(element)==tuple:\n",
    "            result.append(tuple((sorted(list(element))))) \n",
    "            # Here conversting tuple->list , then list->to tuple then adding it to the another list\n",
    "    return result\n",
    "        \n",
    "    \n",
    "\n",
    "listTuple=[(1,3),(4,2),(5,0),(-2,-6)]\n",
    "print(f\"Here is the sorted list of tuples based on 2nd elements\\n{sortlist(listTuple)}\\n\")"
   ]
  },
  {
   "cell_type": "markdown",
   "id": "898fbd3c-f0db-462c-b08e-58ba479f9c8a",
   "metadata": {},
   "source": [
    "#  9. Write a Python program that uses \" map() \" to convert a list of temperatures from Celsius to Fahrenheit"
   ]
  },
  {
   "cell_type": "code",
   "execution_count": 66,
   "id": "0b5328ac-fc56-4009-b320-2beb6765234f",
   "metadata": {},
   "outputs": [
    {
     "name": "stdout",
     "output_type": "stream",
     "text": [
      "Given list converted into Frheneit that is \n",
      "[235.4, 257.0, 1832.0, 1445.0]\n"
     ]
    }
   ],
   "source": [
    "CelsiusValue=[113,125,1000,785]\n",
    "result=list(map(lambda celsiusValue:(celsiusValue*9/5)+32,CelsiusValue ))\n",
    "print(f\"Given list converted into Frheneit that is \\n{result}\")"
   ]
  },
  {
   "cell_type": "markdown",
   "id": "124f089e-b583-47c0-af59-f6ca942d872e",
   "metadata": {},
   "source": [
    "# 10.  Write a Python that uses 'filer()' to remove all the vowels from a given string"
   ]
  },
  {
   "cell_type": "code",
   "execution_count": 29,
   "id": "629e631b-3b0f-4eba-8e4d-6925a59d8d3b",
   "metadata": {},
   "outputs": [
    {
     "name": "stdout",
     "output_type": "stream",
     "text": [
      "All vowels has been removed from given string\n",
      "'  Thr r thr typs f fnctns n Pythn  '\n"
     ]
    }
   ],
   "source": [
    "def removeVowels(str):\n",
    "    result=\"\"\n",
    "    for letter in str:\n",
    "        if letter.lower() not in'aeiou':   # Check if letter is aeiou\n",
    "            result+=letter # if not vowel add to new string veriable \n",
    "    return result\n",
    "\n",
    "removeVwlResult=''.join(filter(removeVowels,\"There are three types of functions in Python\"))\n",
    "print(f\"All vowels has been removed from given string\\n'  {removeVwlResult}  '\")"
   ]
  },
  {
   "cell_type": "markdown",
   "id": "18c2893d-e89d-42fc-8840-55fea6115b4e",
   "metadata": {},
   "source": [
    "#  11.  Imagine an accounting routine used in a book shop. It works an a list with sub lists, which look like this\n",
    "\n",
    "#Order Number   Book Title and Author              Quantity   Price per Item\n",
    "#34587        Learning Python , Mark Lutz           4          40.95 \n",
    "#98765        Prograimg Python, Mark Luts           5          56.8\n",
    "#77226        Head First Python, Paul Barry         3          32.95\n",
    "#88112        Eintfuhrung in Python3, Bernd Klein   3          24.99\n",
    "\n",
    "Write a Python program, which returns a list with 2-tuples.Each tuple consist of the order number and the product \n",
    "of the price per item and quantity. The produce should be increased by 10,-C if the value of the order is smaller than 100, 00\n",
    "\n",
    "#Write a Python program using lambda and map"
   ]
  },
  {
   "cell_type": "code",
   "execution_count": 27,
   "id": "39d2e6b1-41cc-413d-95f4-3ebcae31a3a4",
   "metadata": {},
   "outputs": [
    {
     "name": "stdout",
     "output_type": "stream",
     "text": [
      "Here are the order details , Its contain in the table in the form of \n",
      "\n",
      "'(Order ID , Price , Quantity)' , '(Total prize)'\n",
      "[(34587, 40.95, 4), 173.8]\n",
      "[(98765, 56.8, 5), 294.0]\n",
      "[(77226, 32.95, 3), 108.9]\n",
      "[(88112, 24.99, 3), 85.0]\n"
     ]
    }
   ],
   "source": [
    "def orderDisplay(OrderList):\n",
    "    order_Id,order_Author,order_quantity,order_Price=OrderList # Unpacking the list data\n",
    "    totalPrize= round((order_Price*order_quantity),1) # Prize*quantity and round up to 1 \n",
    "    if totalPrize<10000: totalPrize+=10 \n",
    "    return [(order_Id,order_Price,order_quantity),(totalPrize)] * returning the data\n",
    "    \n",
    "OrderList=[\n",
    "    [34587,\"Learning Python , Mark Lutz\",4,40.95],\n",
    "    [98765,\"Prograimg Python, Mark Luts\",5,56.8],\n",
    "    [77226,\"Head First Python, Paul Barry\",3,32.95],\n",
    "    [88112,\"Eintfuhrung in Python3, Bernd Klein\",3,24.99]\n",
    "           ]\n",
    "result=list(map(lambda eachOrder:orderDisplay(eachOrder),OrderList )) # lambda function and map \n",
    "print(f\"Here are the order details , Its contain in the table in the form of \\n\\n'(Order ID , Price , Quantity)' , '(Total prize)'\")\n",
    "for order in result:\n",
    "    print(order)"
   ]
  },
  {
   "cell_type": "code",
   "execution_count": null,
   "id": "7fb9ee93-7ef4-4aff-ac9b-81f7657df0ca",
   "metadata": {},
   "outputs": [],
   "source": []
  }
 ],
 "metadata": {
  "kernelspec": {
   "display_name": "Python 3 (ipykernel)",
   "language": "python",
   "name": "python3"
  },
  "language_info": {
   "codemirror_mode": {
    "name": "ipython",
    "version": 3
   },
   "file_extension": ".py",
   "mimetype": "text/x-python",
   "name": "python",
   "nbconvert_exporter": "python",
   "pygments_lexer": "ipython3",
   "version": "3.10.8"
  }
 },
 "nbformat": 4,
 "nbformat_minor": 5
}
